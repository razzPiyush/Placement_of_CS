{
  "cells": [
    {
      "cell_type": "markdown",
      "metadata": {
        "id": "4Fz2nCATDfH4"
      },
      "source": [
        "# **Forecasting the EV charging demand for 2019 and 2020**"
      ]
    },
    {
      "cell_type": "markdown",
      "metadata": {
        "id": "zKOzG2oACuAS"
      },
      "source": [
        "### **Importing Required Libraries**"
      ]
    },
    {
      "cell_type": "code",
      "execution_count": null,
      "metadata": {
        "id": "e1Wh9iVNC4_f"
      },
      "outputs": [],
      "source": [
        "import numpy as np\n",
        "import pandas as pd\n",
        "import matplotlib.pyplot as plt\n",
        "import seaborn as sns\n",
        "\n",
        "import warnings\n",
        "warnings.filterwarnings(\"ignore\")\n",
        "\n",
        "from sklearn.model_selection import train_test_split\n",
        "\n",
        "from scipy.spatial import distance_matrix\n",
        "\n",
        "from statsmodels.tsa.api import ExponentialSmoothing, SimpleExpSmoothing, Holt"
      ]
    },
    {
      "cell_type": "markdown",
      "metadata": {
        "id": "GEHDN4hbEMTB"
      },
      "source": [
        "### **Reading the Datasets**"
      ]
    },
    {
      "cell_type": "code",
      "execution_count": null,
      "metadata": {
        "id": "ItlkxiIJETGW"
      },
      "outputs": [],
      "source": [
        "demand = pd.read_csv(\"/content/Demand_History.csv\")\n",
        "infra = pd.read_csv(\"/content/exisiting_EV_infrastructure_2018.csv\")"
      ]
    },
    {
      "cell_type": "markdown",
      "metadata": {
        "id": "YmOVEzvrJIqS"
      },
      "source": [
        "## **Exploratory Data Analysis (EDA) and Data Visualization**"
      ]
    },
    {
      "cell_type": "code",
      "execution_count": null,
      "metadata": {
        "colab": {
          "base_uri": "https://localhost:8080/",
          "height": 403
        },
        "id": "Jyt-LfGxaZMb",
        "outputId": "f0849093-265e-49a0-9cdd-c094dc8a82e8"
      },
      "outputs": [],
      "source": [
        "fig, ax = plt.subplots(figsize=(10, 6))\n",
        "ax.scatter(x = demand['x_coordinate'], y = demand['y_coordinate']) #blue\n",
        "ax.scatter(x = infra['x_coordinate'], y = infra['y_coordinate'])  #orange\n",
        "plt.show()"
      ]
    },
    {
      "cell_type": "code",
      "execution_count": null,
      "metadata": {
        "colab": {
          "base_uri": "https://localhost:8080/",
          "height": 226
        },
        "id": "mArPV6jZa7xd",
        "outputId": "8472289b-cc09-43ae-cafe-e4e809553984"
      },
      "outputs": [],
      "source": [
        "demand.head()"
      ]
    },
    {
      "cell_type": "code",
      "execution_count": null,
      "metadata": {
        "colab": {
          "base_uri": "https://localhost:8080/",
          "height": 412
        },
        "id": "T7sPDAKTbAM9",
        "outputId": "28c3d37d-71ee-424c-cb80-f7f7117d8f18"
      },
      "outputs": [],
      "source": [
        "demand2 = demand.T\n",
        "demand2.head(10)"
      ]
    },
    {
      "cell_type": "code",
      "execution_count": null,
      "metadata": {
        "colab": {
          "base_uri": "https://localhost:8080/",
          "height": 383
        },
        "id": "ERyz_U6xbENp",
        "outputId": "4ee0ff47-36e5-4a73-beb9-adb3a464ad95"
      },
      "outputs": [],
      "source": [
        "demand3 = demand.drop(columns = ['demand_point_index','x_coordinate', 'y_coordinate'])\n",
        "demand3.head(10)"
      ]
    },
    {
      "cell_type": "code",
      "execution_count": null,
      "metadata": {
        "colab": {
          "base_uri": "https://localhost:8080/",
          "height": 508
        },
        "id": "zHg6lRWwbP4q",
        "outputId": "3b9cad6b-e498-40b5-fd16-6e7a4b66eef8"
      },
      "outputs": [],
      "source": [
        "plt.figure(figsize = (10,6))\n",
        "count = 1\n",
        "for index, row in demand3.iterrows():\n",
        "    plt.plot(row, label=index)\n",
        "    count = count + 1\n",
        "    if count == 30:\n",
        "      break\n",
        "plt.legend()\n",
        "plt.show()"
      ]
    },
    {
      "cell_type": "code",
      "execution_count": null,
      "metadata": {
        "colab": {
          "base_uri": "https://localhost:8080/",
          "height": 438
        },
        "id": "CiQQLLaFbuTT",
        "outputId": "18bae21e-5b9c-4cd0-842d-de167c4a5a08"
      },
      "outputs": [],
      "source": [
        "fig, ax = plt.subplots(figsize=(10, 6))\n",
        "ax.scatter(x = demand['x_coordinate'], y = demand['y_coordinate'], cmap=\"Reds\", c=demand[\"2018\"]) #blue\n",
        "ax.scatter(x = infra['x_coordinate'], y = infra['y_coordinate'], color = 'black')  #orange\n",
        "plt.title(\"2018\")"
      ]
    },
    {
      "cell_type": "markdown",
      "metadata": {
        "id": "XfX63Hdre36L"
      },
      "source": [
        "## **Finding the Change in Demand at charging points over the years**"
      ]
    },
    {
      "cell_type": "code",
      "execution_count": null,
      "metadata": {
        "colab": {
          "base_uri": "https://localhost:8080/"
        },
        "id": "dm1i-ghBfQpd",
        "outputId": "124b56b9-e04a-4467-9187-327f0f27770f"
      },
      "outputs": [],
      "source": [
        "demand['diff'] = demand['2018'] - demand['2017']\n",
        "demand['diff%'] = (demand['2018'] - demand['2017'])*100/demand['2017']\n",
        "demand['diff'].describe()"
      ]
    },
    {
      "cell_type": "code",
      "execution_count": null,
      "metadata": {
        "colab": {
          "base_uri": "https://localhost:8080/",
          "height": 398
        },
        "id": "RMMPXSnNfUJx",
        "outputId": "e34b368c-8b75-4e02-c874-62a0d83e6b0e"
      },
      "outputs": [],
      "source": [
        "plt.figure(figsize = (10,6))\n",
        "demand['diff'].plot.box()\n",
        "plt.show()"
      ]
    },
    {
      "cell_type": "code",
      "execution_count": null,
      "metadata": {
        "colab": {
          "base_uri": "https://localhost:8080/",
          "height": 443
        },
        "id": "BVD2_HT8ffzY",
        "outputId": "5c9e3987-7fa1-4e76-a0a4-17928863360c"
      },
      "outputs": [],
      "source": [
        "demand"
      ]
    },
    {
      "cell_type": "code",
      "execution_count": null,
      "metadata": {
        "colab": {
          "base_uri": "https://localhost:8080/",
          "height": 100
        },
        "id": "tcXBf4c9flHa",
        "outputId": "59c14cb6-21bf-4deb-f38c-24639c0337aa"
      },
      "outputs": [],
      "source": [
        "demand[demand['diff'] == demand['diff'].min()]"
      ]
    },
    {
      "cell_type": "code",
      "execution_count": null,
      "metadata": {
        "colab": {
          "base_uri": "https://localhost:8080/",
          "height": 438
        },
        "id": "tFxx2W4ufuxT",
        "outputId": "b3a2c380-d543-46d7-f50d-7380db1c05d7"
      },
      "outputs": [],
      "source": [
        "fig2, ax2 = plt.subplots(figsize=(10, 6))\n",
        "ax2.scatter(x = demand['x_coordinate'], y = demand['y_coordinate'], cmap=\"Reds\", c=demand[\"diff\"]) #blue\n",
        "ax2.scatter(x = infra['x_coordinate'], y = infra['y_coordinate'], color = 'black')  #orange\n",
        "plt.title(\"Difference\")"
      ]
    },
    {
      "cell_type": "code",
      "execution_count": null,
      "metadata": {
        "colab": {
          "base_uri": "https://localhost:8080/"
        },
        "id": "dOUq-_SpgLMF",
        "outputId": "37c79f47-6e02-47ad-97da-bda629d35634"
      },
      "outputs": [],
      "source": [
        "demand[(demand['diff'] > 55) | (demand['diff'] < -30)].count()"
      ]
    },
    {
      "cell_type": "code",
      "execution_count": null,
      "metadata": {
        "colab": {
          "base_uri": "https://localhost:8080/",
          "height": 790
        },
        "id": "KxO4LlQvgYFU",
        "outputId": "3e697a06-482d-461a-fe3e-d5b4c920e8b8"
      },
      "outputs": [],
      "source": [
        "demand[demand['diff'] > 55]"
      ]
    },
    {
      "cell_type": "code",
      "execution_count": null,
      "metadata": {
        "colab": {
          "base_uri": "https://localhost:8080/",
          "height": 477
        },
        "id": "eT8Oz6ufgbtI",
        "outputId": "16f4be8b-0e48-40ab-8f87-7227866a1445"
      },
      "outputs": [],
      "source": [
        "demand[demand['diff'] < -30]"
      ]
    },
    {
      "cell_type": "code",
      "execution_count": null,
      "metadata": {
        "colab": {
          "base_uri": "https://localhost:8080/",
          "height": 443
        },
        "id": "vS0GycJpggJd",
        "outputId": "95c57f72-23af-493a-91fd-e88667973f4e"
      },
      "outputs": [],
      "source": [
        "demand[(demand['diff'] > 5) & (demand['diff'] < 10)]"
      ]
    },
    {
      "cell_type": "code",
      "execution_count": null,
      "metadata": {
        "colab": {
          "base_uri": "https://localhost:8080/",
          "height": 443
        },
        "id": "RlE6oVRBgqAL",
        "outputId": "5aa667a3-9c32-4c10-dfe7-91c6e7b6ea77"
      },
      "outputs": [],
      "source": [
        "demand[(demand['diff'] > 20) & (demand['diff'] < 30)]"
      ]
    },
    {
      "cell_type": "code",
      "execution_count": null,
      "metadata": {
        "colab": {
          "base_uri": "https://localhost:8080/",
          "height": 443
        },
        "id": "VdjyCI3HgvCA",
        "outputId": "061c8df7-26b6-4209-a5fb-6ba7fa8ce59f"
      },
      "outputs": [],
      "source": [
        "demand[(demand['diff'] > 30) & (demand['diff'] < 40)]"
      ]
    },
    {
      "cell_type": "code",
      "execution_count": null,
      "metadata": {
        "colab": {
          "base_uri": "https://localhost:8080/",
          "height": 443
        },
        "id": "gSiZHR9agwk-",
        "outputId": "06c71e6e-523e-44bf-bd5d-f3e6a4f1f906"
      },
      "outputs": [],
      "source": [
        "demand[(demand['diff'] > -20) & (demand['diff'] < -10)]"
      ]
    },
    {
      "cell_type": "code",
      "execution_count": null,
      "metadata": {
        "colab": {
          "base_uri": "https://localhost:8080/"
        },
        "id": "zdjFlas8g7IP",
        "outputId": "97097ae9-870b-456c-9a59-09cf82488cc9"
      },
      "outputs": [],
      "source": [
        "demand['2018'].describe()"
      ]
    },
    {
      "cell_type": "code",
      "execution_count": null,
      "metadata": {
        "colab": {
          "base_uri": "https://localhost:8080/",
          "height": 830
        },
        "id": "hSTEtF2bg-lt",
        "outputId": "fbae429e-21fa-45c8-ba0c-bb72b8134ed6"
      },
      "outputs": [],
      "source": [
        "plt.figure(figsize = (7,10))\n",
        "demand['diff%'].plot.box()\n",
        "plt.show()"
      ]
    },
    {
      "cell_type": "code",
      "execution_count": null,
      "metadata": {
        "colab": {
          "base_uri": "https://localhost:8080/",
          "height": 100
        },
        "id": "QczY30vHhIYn",
        "outputId": "2b1dd183-1c46-42cf-98c4-48a22512c79f"
      },
      "outputs": [],
      "source": [
        "demand[demand['diff%'] == demand['diff%'].min()]"
      ]
    },
    {
      "cell_type": "code",
      "execution_count": null,
      "metadata": {
        "colab": {
          "base_uri": "https://localhost:8080/"
        },
        "id": "KY825z-Imt3j",
        "outputId": "bbd67fb2-7abe-4e49-9c2a-1f918a5305e9"
      },
      "outputs": [],
      "source": [
        "demand['diff%'].describe()"
      ]
    },
    {
      "cell_type": "code",
      "execution_count": null,
      "metadata": {
        "colab": {
          "base_uri": "https://localhost:8080/",
          "height": 438
        },
        "id": "s7QQXghyhRyL",
        "outputId": "ea22665e-cd95-4c1e-f488-3a5cf6816f95"
      },
      "outputs": [],
      "source": [
        "fig3, ax3 = plt.subplots(figsize=(10, 6))\n",
        "ax3.scatter(x = demand['x_coordinate'], y = demand['y_coordinate'], cmap=\"Reds\", c=demand[\"diff%\"]) #blue\n",
        "ax3.scatter(x = infra['x_coordinate'], y = infra['y_coordinate'], color = 'black')  #orange\n",
        "plt.title(\"Difference%\")"
      ]
    },
    {
      "cell_type": "code",
      "execution_count": null,
      "metadata": {
        "id": "pkXfu2CZhWK7"
      },
      "outputs": [],
      "source": [
        "demand[demand['diff%'].isnull() == True]\n",
        "demand['diff%'] = demand['diff%'].fillna(0)"
      ]
    },
    {
      "cell_type": "code",
      "execution_count": null,
      "metadata": {
        "colab": {
          "base_uri": "https://localhost:8080/",
          "height": 300
        },
        "id": "0gUVqU0ehbQ3",
        "outputId": "bcfdaf87-ff4a-4c95-ec2f-00a17e44fdee"
      },
      "outputs": [],
      "source": [
        "diff_df = pd.DataFrame(demand['diff%'])\n",
        "diff_df.describe()"
      ]
    },
    {
      "cell_type": "code",
      "execution_count": null,
      "metadata": {
        "colab": {
          "base_uri": "https://localhost:8080/",
          "height": 443
        },
        "id": "9IN5CS71houX",
        "outputId": "845b4ab7-9061-4f83-e924-703514b33a4b"
      },
      "outputs": [],
      "source": [
        "d_mat = pd.DataFrame(distance_matrix(diff_df.values, diff_df.values), index=diff_df.index, columns=demand.index)\n",
        "d_mat"
      ]
    },
    {
      "cell_type": "markdown",
      "metadata": {
        "id": "ftu3PGdtiEcJ"
      },
      "source": [
        "## **Dividing the dataset into different groups based on change in demand over years, to apply different clustering hyperparameters to each**"
      ]
    },
    {
      "cell_type": "code",
      "execution_count": null,
      "metadata": {
        "colab": {
          "base_uri": "https://localhost:8080/"
        },
        "id": "NNj5Cc59iQOW",
        "outputId": "78329d49-0823-45e2-8987-286a12b7a461"
      },
      "outputs": [],
      "source": [
        "from sklearn.cluster import DBSCAN\n",
        "clusters = DBSCAN(eps=5, min_samples=100).fit(diff_df)\n",
        "# get cluster labels\n",
        "clusters.labels_"
      ]
    },
    {
      "cell_type": "code",
      "execution_count": null,
      "metadata": {
        "colab": {
          "base_uri": "https://localhost:8080/",
          "height": 535
        },
        "id": "IlByN-XNiT65",
        "outputId": "f9bd9121-76a0-44fb-f8b1-6e08e91dd776"
      },
      "outputs": [],
      "source": [
        "plt.figure(figsize=(10,8))\n",
        "p = sns.scatterplot(data=diff_df, x=demand['x_coordinate'], y=demand['y_coordinate'], hue=clusters.labels_, legend=\"full\", palette=\"Reds\")\n",
        "sns.move_legend(p, \"upper right\", bbox_to_anchor=(1.17, 1.2), title='Clusters')\n",
        "\n",
        "plt.show()"
      ]
    },
    {
      "cell_type": "code",
      "execution_count": null,
      "metadata": {
        "id": "z95cpmgnihQK"
      },
      "outputs": [],
      "source": [
        "group1 = demand[demand['diff%'] >23 ]\n",
        "group1  #0.8 , 0.5\n",
        "group1.to_csv(r'group1.csv')"
      ]
    },
    {
      "cell_type": "code",
      "execution_count": null,
      "metadata": {
        "id": "IlRa3WfAiueX"
      },
      "outputs": [],
      "source": [
        "group2 = demand[(demand['diff%']>9) & (demand['diff%'] <23) ]\n",
        "group2  #0.8 0.2\n",
        "group2.to_csv(r'group2.csv')"
      ]
    },
    {
      "cell_type": "code",
      "execution_count": null,
      "metadata": {
        "id": "GSFw7ihuixBq"
      },
      "outputs": [],
      "source": [
        "group3 = demand[(demand['diff%']>-26) & (demand['diff%'] <9) ]\n",
        "group3   #0.5 #0.2\n",
        "group3.to_csv(r'group3.csv')"
      ]
    },
    {
      "cell_type": "markdown",
      "metadata": {
        "id": "bRQIzub7jCap"
      },
      "source": [
        "## **Making the distane matrix to find spatial distance between every supply point and demand point**"
      ]
    },
    {
      "cell_type": "code",
      "execution_count": null,
      "metadata": {
        "colab": {
          "base_uri": "https://localhost:8080/",
          "height": 383
        },
        "id": "0vGpyM5sjE2d",
        "outputId": "60606f5f-7a1b-4392-939d-ed534589601d"
      },
      "outputs": [],
      "source": [
        "infra.head(10)"
      ]
    },
    {
      "cell_type": "code",
      "execution_count": null,
      "metadata": {
        "colab": {
          "base_uri": "https://localhost:8080/"
        },
        "id": "8raLB2h7jISO",
        "outputId": "d4b6a4e9-62ab-4cca-bf74-68c487475093"
      },
      "outputs": [],
      "source": [
        "dist_mat = np.zeros((100,4096))\n",
        "\n",
        "m,n = 100,4096\n",
        "for i in range(m):\n",
        "  for j in range(n):\n",
        "    dist  = abs(infra.x_coordinate[i] - demand.x_coordinate[j]) + abs(infra.y_coordinate[i] - demand.y_coordinate[j])\n",
        "    dist_mat[i][j]=dist\n",
        "\n",
        "dist_mat"
      ]
    },
    {
      "cell_type": "code",
      "execution_count": null,
      "metadata": {
        "colab": {
          "base_uri": "https://localhost:8080/",
          "height": 443
        },
        "id": "9i1YGALHjQiD",
        "outputId": "b489b984-5433-4600-d3a1-ee6c6bf3b41b"
      },
      "outputs": [],
      "source": [
        "dist_df = pd.DataFrame(dist_mat)\n",
        "dist_df"
      ]
    },
    {
      "cell_type": "code",
      "execution_count": null,
      "metadata": {
        "id": "omZvw_4LjTiY"
      },
      "outputs": [],
      "source": [
        "dist_df.to_csv(r'distance_matrix.csv', index=False)"
      ]
    },
    {
      "cell_type": "markdown",
      "metadata": {
        "id": "qqZwZOzLnsLa"
      },
      "source": [
        "## **Data Analysis**"
      ]
    },
    {
      "cell_type": "code",
      "execution_count": null,
      "metadata": {
        "id": "pZJDd8Hhn80l"
      },
      "outputs": [],
      "source": [
        "demand = pd.read_csv(\"/content/Demand_History.csv\")\n",
        "infra = pd.read_csv(\"/content/exisiting_EV_infrastructure_2018.csv\")\n",
        "\n",
        "group1=pd.read_csv(\"group1.csv\")\n",
        "group2=pd.read_csv(\"group2.csv\")\n",
        "group3=pd.read_csv(\"group3.csv\")"
      ]
    },
    {
      "cell_type": "code",
      "execution_count": null,
      "metadata": {
        "colab": {
          "base_uri": "https://localhost:8080/",
          "height": 226
        },
        "id": "5o5x_ujiJSYL",
        "outputId": "0cd34edb-aea5-445b-804d-eef78c8fe4fb"
      },
      "outputs": [],
      "source": [
        "demand2 = demand.drop(columns = ['x_coordinate','y_coordinate'])\n",
        "demand2.head()"
      ]
    },
    {
      "cell_type": "code",
      "execution_count": null,
      "metadata": {
        "colab": {
          "base_uri": "https://localhost:8080/",
          "height": 475
        },
        "id": "kNXstsFWJXl_",
        "outputId": "c034ea68-a2f5-4974-aef7-132de9df6f5e"
      },
      "outputs": [],
      "source": [
        "demand2.set_index('demand_point_index')"
      ]
    },
    {
      "cell_type": "code",
      "execution_count": null,
      "metadata": {
        "colab": {
          "base_uri": "https://localhost:8080/",
          "height": 255
        },
        "id": "OLFKhmmuJ5iy",
        "outputId": "8ed08dc0-3ffc-4053-afc2-94b8fda923de"
      },
      "outputs": [],
      "source": [
        "demand2 = demand2.T\n",
        "demand2.head()"
      ]
    },
    {
      "cell_type": "code",
      "execution_count": null,
      "metadata": {
        "colab": {
          "base_uri": "https://localhost:8080/",
          "height": 381
        },
        "id": "HAvxDB6ZKO15",
        "outputId": "8dd4c203-3477-4006-e225-945b4dc9e383"
      },
      "outputs": [],
      "source": [
        "group1.set_index('demand_point_index',inplace=True)\n",
        "group1.drop(['Unnamed: 0', 'diff','diff%','x_coordinate','y_coordinate'], axis = 1, inplace =True)\n",
        "group1 = group1.T\n",
        "group1"
      ]
    },
    {
      "cell_type": "code",
      "execution_count": null,
      "metadata": {
        "colab": {
          "base_uri": "https://localhost:8080/",
          "height": 381
        },
        "id": "r7-s8xX8SAkc",
        "outputId": "fb2dc8b8-6604-4fad-9b1f-b7f0ca36ca77"
      },
      "outputs": [],
      "source": [
        "group2.set_index('demand_point_index',inplace=True)\n",
        "group2.drop(['Unnamed: 0', 'diff','diff%','x_coordinate','y_coordinate'], axis = 1, inplace =True)\n",
        "group2 = group2.T\n",
        "group2"
      ]
    },
    {
      "cell_type": "code",
      "execution_count": null,
      "metadata": {
        "colab": {
          "base_uri": "https://localhost:8080/",
          "height": 381
        },
        "id": "-nBxgvwTSJSP",
        "outputId": "7eb51922-a705-4e55-87eb-49773c5ebd34"
      },
      "outputs": [],
      "source": [
        "group3.set_index('demand_point_index',inplace=True)\n",
        "group3.drop(['Unnamed: 0', 'diff','diff%','x_coordinate','y_coordinate'], axis = 1, inplace =True)\n",
        "group3 = group3.T\n",
        "group3"
      ]
    },
    {
      "cell_type": "code",
      "execution_count": null,
      "metadata": {
        "colab": {
          "base_uri": "https://localhost:8080/",
          "height": 255
        },
        "id": "yVEzWFEhSRnr",
        "outputId": "7029621b-488c-47e3-ee9b-2a92156e0e80"
      },
      "outputs": [],
      "source": [
        "group1.index = pd.to_datetime(group1.index)\n",
        "group1.head()"
      ]
    },
    {
      "cell_type": "code",
      "execution_count": null,
      "metadata": {
        "colab": {
          "base_uri": "https://localhost:8080/",
          "height": 255
        },
        "id": "c0Ya-KxVSXud",
        "outputId": "bdde33a2-5431-4e5e-96c8-4bb4915fe76f"
      },
      "outputs": [],
      "source": [
        "group2.index = pd.to_datetime(group2.index)\n",
        "group2.head()"
      ]
    },
    {
      "cell_type": "code",
      "execution_count": null,
      "metadata": {
        "colab": {
          "base_uri": "https://localhost:8080/",
          "height": 255
        },
        "id": "mKzr0f3sSZN2",
        "outputId": "0e80bc15-9789-481d-8627-a513e4b2d2d4"
      },
      "outputs": [],
      "source": [
        "group3.index = pd.to_datetime(group3.index)\n",
        "group3.head()"
      ]
    },
    {
      "cell_type": "code",
      "execution_count": null,
      "metadata": {
        "colab": {
          "base_uri": "https://localhost:8080/",
          "height": 381
        },
        "id": "6hcozLixZoyg",
        "outputId": "9a24c509-b1a8-4394-b58f-d099720fd69d"
      },
      "outputs": [],
      "source": [
        "demand2.drop('demand_point_index', inplace=True)\n",
        "demand2"
      ]
    },
    {
      "cell_type": "code",
      "execution_count": null,
      "metadata": {
        "colab": {
          "base_uri": "https://localhost:8080/",
          "height": 447
        },
        "id": "Y1BFrx5aaB11",
        "outputId": "10e40cdb-3a63-4ab4-988d-aa46f612e895"
      },
      "outputs": [],
      "source": [
        "\n",
        "demand2[40].plot()"
      ]
    },
    {
      "cell_type": "code",
      "execution_count": null,
      "metadata": {
        "colab": {
          "base_uri": "https://localhost:8080/",
          "height": 342
        },
        "id": "ACiPzqIBZsiN",
        "outputId": "5935451d-68c5-40aa-e617-64db0a6b35a2"
      },
      "outputs": [],
      "source": [
        "demand2.index = pd.to_datetime(demand2.index)\n",
        "demand2.head()"
      ]
    },
    {
      "cell_type": "code",
      "execution_count": null,
      "metadata": {
        "colab": {
          "base_uri": "https://localhost:8080/",
          "height": 342
        },
        "id": "TLB9gC9rZumR",
        "outputId": "99c52ae1-ffda-48d8-c87d-9576e45c77d5"
      },
      "outputs": [],
      "source": [
        "demand2.index = pd.DatetimeIndex(demand2.index.values,\n",
        "                               freq=demand2.index.inferred_freq)\n",
        "\n",
        "demand2.head()"
      ]
    },
    {
      "cell_type": "markdown",
      "metadata": {
        "id": "uXCpISZbaJDd"
      },
      "source": [
        "## **Forecasting the Power Demand**"
      ]
    },
    {
      "cell_type": "markdown",
      "metadata": {
        "id": "itxvqsoRaYbh"
      },
      "source": [
        "### *Holt's Exponential Smoothening*\n",
        "\n",
        "We tried different combinations of smoothing levels and smoothing trends for each group in the data to finalize on the hyperparameters\n",
        "Create 4 different models based on either change or % change with different alpha and beta values\n",
        "\n",
        "Example:\n",
        "\n",
        "2018 = 40\n",
        "\n",
        "2017 = 100\n",
        "\n",
        "smooth level = 0.8 trend = 0.2\n",
        "\n",
        "0.95 * 40 + 0.05*(-60) = 35"
      ]
    },
    {
      "cell_type": "code",
      "execution_count": null,
      "metadata": {
        "colab": {
          "base_uri": "https://localhost:8080/",
          "height": 488
        },
        "id": "w8IPSAklGox2",
        "outputId": "89371532-0e95-424f-964a-5e32ad569dc2"
      },
      "outputs": [],
      "source": [
        "demand2[:][:8]"
      ]
    },
    {
      "cell_type": "code",
      "execution_count": null,
      "metadata": {
        "id": "xiqwqospHGJq"
      },
      "outputs": [],
      "source": [
        "fit1 = Holt(demand2[1802][:8], initialization_method=None).fit(            #alpha 0.8 beta 0.2\n",
        "    smoothing_level=0.8, smoothing_trend=0.2, optimized=False\n",
        ")"
      ]
    },
    {
      "cell_type": "code",
      "execution_count": null,
      "metadata": {
        "colab": {
          "base_uri": "https://localhost:8080/",
          "height": 460
        },
        "id": "Snq2mNqWahSQ",
        "outputId": "971d26e7-7ce8-4575-daa0-33b75627a045"
      },
      "outputs": [],
      "source": [
        "fit1 = Holt(demand2[1802][:8], initialization_method=None).fit(            #alpha 0.8 beta 0.2\n",
        "    smoothing_level=0.8, smoothing_trend=0.2, optimized=False\n",
        ")\n",
        "fcast1 = fit1.forecast(2).rename(\"HoltsLin\")\n",
        "plt.figure(figsize=(12, 8))\n",
        "plt.plot(demand2[1802], marker=\"o\", color=\"black\")\n",
        "plt.plot(fit1.fittedvalues, color=\"blue\")\n",
        "(line1,) = plt.plot(fcast1, marker=\"o\", color=\"blue\")\n",
        "plt.legend([line1], [fcast1.name])"
      ]
    },
    {
      "cell_type": "code",
      "execution_count": null,
      "metadata": {
        "colab": {
          "base_uri": "https://localhost:8080/"
        },
        "id": "qr-ae5gfbf1h",
        "outputId": "caa09312-458b-4637-b7bc-8c76d5ba0e6b"
      },
      "outputs": [],
      "source": [
        "fcast1"
      ]
    },
    {
      "cell_type": "code",
      "execution_count": null,
      "metadata": {
        "colab": {
          "base_uri": "https://localhost:8080/"
        },
        "id": "5-13zgQBnYFX",
        "outputId": "16ca96ab-f662-4023-f2ed-44d1e3fb4b00"
      },
      "outputs": [],
      "source": [
        "demand2.columns"
      ]
    },
    {
      "cell_type": "code",
      "execution_count": null,
      "metadata": {
        "colab": {
          "base_uri": "https://localhost:8080/",
          "height": 537
        },
        "id": "Y-UlelXGni1c",
        "outputId": "c6067a28-0c3d-4f80-e2d0-0f933ad523f8"
      },
      "outputs": [],
      "source": [
        "demand2"
      ]
    },
    {
      "cell_type": "code",
      "execution_count": null,
      "metadata": {
        "colab": {
          "base_uri": "https://localhost:8080/"
        },
        "id": "zISCm74Xnllr",
        "outputId": "671a4509-3e8d-49a3-9ed2-781cdcee2230"
      },
      "outputs": [],
      "source": [
        "f = np.zeros((2,4096), 'float64')\n",
        "f.shape"
      ]
    },
    {
      "cell_type": "code",
      "execution_count": null,
      "metadata": {
        "colab": {
          "base_uri": "https://localhost:8080/",
          "height": 161
        },
        "id": "f9_yivlrno5i",
        "outputId": "7d33a446-2863-4c48-d759-932d7ccc1bf5"
      },
      "outputs": [],
      "source": [
        "forecast = pd.DataFrame(f)\n",
        "#forecast.set_index(pd.Index(['2019','2020']), inplace=True)\n",
        "forecast.head()"
      ]
    },
    {
      "cell_type": "code",
      "execution_count": null,
      "metadata": {
        "colab": {
          "base_uri": "https://localhost:8080/"
        },
        "id": "2wZLtvotnuQS",
        "outputId": "c5829d35-23b5-40fd-b27c-8efd763fae70"
      },
      "outputs": [],
      "source": [
        "group1.columns"
      ]
    },
    {
      "cell_type": "code",
      "execution_count": null,
      "metadata": {
        "colab": {
          "base_uri": "https://localhost:8080/",
          "height": 161
        },
        "id": "Yy7lEI0Zn-iA",
        "outputId": "03dd1280-05f0-41e4-85cc-48302009088f"
      },
      "outputs": [],
      "source": [
        "idx = forecast.index\n",
        "for id in idx:\n",
        "  forecast.loc[id,0] = fcast1[id]\n",
        "\n",
        "forecast.head()\n"
      ]
    },
    {
      "cell_type": "code",
      "execution_count": null,
      "metadata": {
        "colab": {
          "base_uri": "https://localhost:8080/",
          "height": 161
        },
        "id": "aL0UQDHAoCfB",
        "outputId": "0c9ae8a9-142c-42ca-a106-bfae31185df6"
      },
      "outputs": [],
      "source": [
        "g1c = group1.columns\n",
        "idx = forecast.index\n",
        "for i in g1c:\n",
        "  fit1 = Holt(group1[i][:8], initialization_method=None).fit(\n",
        "    smoothing_level=0.8, smoothing_trend=0.5, optimized=False\n",
        "  )\n",
        "  fcast1 = fit1.forecast(2).rename(\"HoltsLin\")\n",
        "  for id in idx:\n",
        "    forecast.loc[id,i] = fcast1[id]\n",
        "\n",
        "\n",
        "forecast.head()\n"
      ]
    },
    {
      "cell_type": "code",
      "execution_count": null,
      "metadata": {
        "colab": {
          "base_uri": "https://localhost:8080/",
          "height": 161
        },
        "id": "Kmp5bcq-oThz",
        "outputId": "c36b487e-c04e-42a6-eea4-3d63c425ee53"
      },
      "outputs": [],
      "source": [
        "g2c = group2.columns\n",
        "idx = forecast.index\n",
        "for i in g2c:\n",
        "  fit2 = Holt(group2[i][:8], initialization_method=None).fit(\n",
        "    smoothing_level=0.8, smoothing_trend=0.2, optimized=False\n",
        "  )\n",
        "  fcast2 = fit2.forecast(2).rename(\"HoltsLin\")\n",
        "  for id in idx:\n",
        "    forecast.loc[id,i] = fcast2[id]\n",
        "\n",
        "\n",
        "forecast.head()"
      ]
    },
    {
      "cell_type": "code",
      "execution_count": null,
      "metadata": {
        "colab": {
          "base_uri": "https://localhost:8080/",
          "height": 161
        },
        "id": "2HNRsV_woWIg",
        "outputId": "c1d1b24b-5570-4901-e803-036a0d892727"
      },
      "outputs": [],
      "source": [
        "g3c = group3.columns\n",
        "idx = forecast.index\n",
        "for i in g3c:\n",
        "  fit3 = Holt(group3[i][:8], initialization_method=None).fit(\n",
        "    smoothing_level=0.5, smoothing_trend=0.2, optimized=False\n",
        "  )\n",
        "  fcast3 = fit3.forecast(2).rename(\"HoltsLin\")\n",
        "  for id in idx:\n",
        "    forecast.loc[id,i] = fcast3[id]\n",
        "\n",
        "\n",
        "forecast.head()\n"
      ]
    },
    {
      "cell_type": "code",
      "execution_count": null,
      "metadata": {
        "colab": {
          "base_uri": "https://localhost:8080/",
          "height": 196
        },
        "id": "2Tc5ggR_ocWg",
        "outputId": "0ab8c8d9-954f-47aa-be2b-ef28ee08d984"
      },
      "outputs": [],
      "source": [
        "forecast.set_index(pd.Index(['2018','2019']), inplace=True)\n",
        "forecast.index = pd.to_datetime(forecast.index)\n",
        "forecast.index = pd.DatetimeIndex(forecast.index.values,\n",
        "                               freq=forecast.index.inferred_freq)\n",
        "forecast.head()"
      ]
    },
    {
      "cell_type": "code",
      "execution_count": null,
      "metadata": {
        "colab": {
          "base_uri": "https://localhost:8080/",
          "height": 147
        },
        "id": "uDZTgCbTKYaX",
        "outputId": "d26e597e-8106-4297-eae5-371d1e7d3224"
      },
      "outputs": [],
      "source": [
        "demand2[:][8:]"
      ]
    },
    {
      "cell_type": "code",
      "execution_count": null,
      "metadata": {
        "colab": {
          "base_uri": "https://localhost:8080/",
          "height": 147
        },
        "id": "7Sq3v0NpUVMS",
        "outputId": "74663518-9737-4e70-facb-8682f43890d2"
      },
      "outputs": [],
      "source": [
        "forecast[:1]"
      ]
    },
    {
      "cell_type": "code",
      "execution_count": null,
      "metadata": {
        "id": "inze6Q53SV3u"
      },
      "outputs": [],
      "source": [
        "from sklearn.metrics import mean_absolute_percentage_error\n",
        "from sklearn.metrics import mean_squared_error"
      ]
    },
    {
      "cell_type": "code",
      "execution_count": null,
      "metadata": {
        "colab": {
          "base_uri": "https://localhost:8080/"
        },
        "id": "Hm33k6ThSZsM",
        "outputId": "6f2fd796-85b9-4cee-8b4c-fab8c3786859"
      },
      "outputs": [],
      "source": [
        "mean_absolute_percentage_error(demand2[:][8:], forecast[:1])"
      ]
    },
    {
      "cell_type": "code",
      "execution_count": null,
      "metadata": {
        "colab": {
          "base_uri": "https://localhost:8080/"
        },
        "id": "D4XeLHgkTygi",
        "outputId": "08cfbd83-cbaf-4d33-e68c-7eccd3c6223e"
      },
      "outputs": [],
      "source": [
        "np.sqrt(mean_squared_error(demand2[:][8:], forecast[:1]))"
      ]
    },
    {
      "cell_type": "code",
      "execution_count": null,
      "metadata": {
        "id": "-lC2Z_2xojPl"
      },
      "outputs": [],
      "source": [
        "forecast.to_csv(r'forecastfr2.csv',index=True)"
      ]
    }
  ],
  "metadata": {
    "colab": {
      "provenance": []
    },
    "kernelspec": {
      "display_name": "Python 3",
      "name": "python3"
    },
    "language_info": {
      "name": "python",
      "version": "3.10.0"
    }
  },
  "nbformat": 4,
  "nbformat_minor": 0
}
